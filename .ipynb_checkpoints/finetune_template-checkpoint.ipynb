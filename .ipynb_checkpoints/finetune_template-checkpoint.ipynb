{
 "cells": [
  {
   "cell_type": "code",
   "execution_count": 1,
   "id": "804bdbee",
   "metadata": {},
   "outputs": [],
   "source": [
    "import torch\n",
    "import torch.nn as nn\n",
    "import torch.optim as optim\n",
    "from torch.optim import lr_scheduler\n",
    "from torchvision import datasets, models, transforms\n",
    "import scipy\n",
    "import numpy as np\n",
    "import time\n",
    "import os"
   ]
  },
  {
   "cell_type": "markdown",
   "id": "f4e33284",
   "metadata": {},
   "source": [
    "### Hyperparameters\n",
    "_____________________"
   ]
  },
  {
   "cell_type": "code",
   "execution_count": 2,
   "id": "c18b2e20",
   "metadata": {},
   "outputs": [],
   "source": [
    "# random seed\n",
    "SEED = 1 \n",
    "NUM_CLASS = 10\n",
    "\n",
    "# Training\n",
    "BATCH_SIZE = 16  ##如果是flowers102,batch_size设到64及以上会在训练的第一个epoch爆内存\n",
    "SAVE_DIR = './log'\n",
    "\n",
    "# Optimizer\n",
    "LEARNING_RATE = 1e-3\n",
    "MOMENTUM = 0.9\n",
    "STEP=5\n",
    "GAMMA=0.5"
   ]
  },
  {
   "cell_type": "markdown",
   "id": "c017d2f4",
   "metadata": {},
   "source": [
    "### Dataset\n",
    "_________"
   ]
  },
  {
   "cell_type": "code",
   "execution_count": 3,
   "id": "f4b19830",
   "metadata": {},
   "outputs": [],
   "source": [
    "data_transforms_flowers = {\n",
    "    'train': transforms.Compose([\n",
    "        transforms.RandomResizedCrop(224),\n",
    "        transforms.RandomHorizontalFlip(),\n",
    "        transforms.ToTensor(),\n",
    "        transforms.Normalize([0.485, 0.456, 0.406], [0.229, 0.224, 0.225])\n",
    "    ]),\n",
    "    'test': transforms.Compose([\n",
    "        transforms.Resize(256),\n",
    "        transforms.CenterCrop(224),\n",
    "        transforms.ToTensor(),\n",
    "        transforms.Normalize([0.485, 0.456, 0.406], [0.229, 0.224, 0.225])\n",
    "    ]),\n",
    "}"
   ]
  },
  {
   "cell_type": "code",
   "execution_count": 4,
   "id": "a4fdec95",
   "metadata": {},
   "outputs": [],
   "source": [
    "train_set = datasets.Flowers102(root=\"/shareddata\", split=\"train\", \n",
    "                                download=False, transform=data_transforms_flowers['train'])\n",
    "train_dataloader = torch.utils.data.DataLoader(train_set, batch_size=BATCH_SIZE,\n",
    "                                          shuffle=True, num_workers=2)\n",
    "test_set = datasets.Flowers102(root=\"/shareddata\", split=\"test\",\n",
    "                               download=False, transform=data_transforms_flowers['test'])\n",
    "test_dataloader = torch.utils.data.DataLoader(test_set, batch_size=BATCH_SIZE,\n",
    "                                          shuffle=True, num_workers=2)"
   ]
  },
  {
   "cell_type": "code",
   "execution_count": 5,
   "id": "36cf144d",
   "metadata": {},
   "outputs": [],
   "source": [
    "mat_file_path = os.path.join(\"/shareddata/flowers-102/imagelabels.mat\")\n",
    "mat_data = scipy.io.loadmat(mat_file_path)\n",
    "labels = np.array(mat_data['labels'][0]) - 1\n",
    "class_labels = list(set(labels))"
   ]
  },
  {
   "cell_type": "code",
   "execution_count": 6,
   "id": "c4805717",
   "metadata": {},
   "outputs": [
    {
     "name": "stdout",
     "output_type": "stream",
     "text": [
      "labels: [0, 1, 2, 3, 4, 5, 6, 7, 8, 9, 10, 11, 12, 13, 14, 15, 16, 17, 18, 19, 20, 21, 22, 23, 24, 25, 26, 27, 28, 29, 30, 31, 32, 33, 34, 35, 36, 37, 38, 39, 40, 41, 42, 43, 44, 45, 46, 47, 48, 49, 50, 51, 52, 53, 54, 55, 56, 57, 58, 59, 60, 61, 62, 63, 64, 65, 66, 67, 68, 69, 70, 71, 72, 73, 74, 75, 76, 77, 78, 79, 80, 81, 82, 83, 84, 85, 86, 87, 88, 89, 90, 91, 92, 93, 94, 95, 96, 97, 98, 99, 100, 101]\n"
     ]
    }
   ],
   "source": [
    "print(\"labels:\", class_labels)"
   ]
  },
  {
   "cell_type": "code",
   "execution_count": 7,
   "id": "98fd823c",
   "metadata": {},
   "outputs": [
    {
     "data": {
      "text/plain": [
       "6149"
      ]
     },
     "execution_count": 7,
     "metadata": {},
     "output_type": "execute_result"
    }
   ],
   "source": [
    "len(test_set)"
   ]
  },
  {
   "cell_type": "markdown",
   "id": "30dfb480",
   "metadata": {},
   "source": [
    "### Model\n",
    "___________"
   ]
  },
  {
   "cell_type": "code",
   "execution_count": 7,
   "id": "8807f873",
   "metadata": {},
   "outputs": [
    {
     "name": "stderr",
     "output_type": "stream",
     "text": [
      "/usr/local/lib/python3.10/dist-packages/torchvision/models/_utils.py:208: UserWarning: The parameter 'pretrained' is deprecated since 0.13 and may be removed in the future, please use 'weights' instead.\n",
      "  warnings.warn(\n",
      "/usr/local/lib/python3.10/dist-packages/torchvision/models/_utils.py:223: UserWarning: Arguments other than a weight enum or `None` for 'weights' are deprecated since 0.13 and may be removed in the future. The current behavior is equivalent to passing `weights=VGG16_Weights.IMAGENET1K_V1`. You can also use `weights=VGG16_Weights.DEFAULT` to get the most up-to-date weights.\n",
      "  warnings.warn(msg)\n"
     ]
    }
   ],
   "source": [
    "# 加载预训练的VGG模型\n",
    "model = models.vgg16(pretrained=True)\n",
    "\n",
    "# 修改模型的最后一层以适应数据集的类别数量，这里为替换\n",
    "num_features = model.classifier[6].in_features\n",
    "model.classifier[6] = nn.Linear(num_features, len(class_labels))"
   ]
  },
  {
   "cell_type": "markdown",
   "id": "2e09cbce",
   "metadata": {},
   "source": [
    "### Optimizer and Loss Function\n",
    "__________________________________"
   ]
  },
  {
   "cell_type": "code",
   "execution_count": 8,
   "id": "e0510133",
   "metadata": {},
   "outputs": [],
   "source": [
    "criterion = nn.CrossEntropyLoss()\n",
    "\n",
    "optimizer = optim.SGD(model.parameters(), lr=LEARNING_RATE, momentum=MOMENTUM)\n",
    "\n",
    "scheduler = torch.optim.lr_scheduler.StepLR(optimizer, step_size=STEP, gamma=GAMMA)"
   ]
  },
  {
   "cell_type": "markdown",
   "id": "e8eb17b7",
   "metadata": {},
   "source": [
    "### Device\n",
    "___________"
   ]
  },
  {
   "cell_type": "code",
   "execution_count": 9,
   "id": "7dc0ab7c",
   "metadata": {},
   "outputs": [],
   "source": [
    "device = torch.device(\"cuda:0\" if torch.cuda.is_available() else \"cpu\")\n",
    "model = model.to(device)"
   ]
  },
  {
   "cell_type": "code",
   "execution_count": 10,
   "id": "c4753d17",
   "metadata": {},
   "outputs": [
    {
     "name": "stdout",
     "output_type": "stream",
     "text": [
      "cuda:0\n"
     ]
    }
   ],
   "source": [
    "print(device)"
   ]
  },
  {
   "cell_type": "markdown",
   "id": "8607463a",
   "metadata": {},
   "source": [
    "### Finetune\n",
    "_____________"
   ]
  },
  {
   "cell_type": "code",
   "execution_count": 11,
   "id": "7895282d",
   "metadata": {},
   "outputs": [],
   "source": [
    "def train_model(model, criterion, optimizer, scheduler, num_epochs):\n",
    "\n",
    "    for epoch in range(num_epochs):\n",
    "        # Train\n",
    "        model.train()\n",
    "        torch.cuda.empty_cache()\n",
    "        print('Epoch {}/{}'.format(epoch+1, num_epochs))\n",
    "        print('-' * 10)\n",
    "\n",
    "        train_loss = 0.0\n",
    "\n",
    "        # Iterate over data.\n",
    "        for batch_idx, (image, target) in enumerate(train_dataloader):\n",
    "            image = image.to(device)\n",
    "            target = target.to(device)\n",
    "\n",
    "            with torch.set_grad_enabled(True):\n",
    "                outputs = model(image)\n",
    "                loss = criterion(outputs, target)\n",
    "\n",
    "            train_loss += loss.item() * image.size(0)\n",
    "            \n",
    "            loss.backward()\n",
    "            optimizer.step()\n",
    "            optimizer.zero_grad()\n",
    "            \n",
    "        epoch_loss = train_loss / len(train_set)\n",
    "        \n",
    "        print(f'Epoch: {epoch+1}/{num_epochs} Train Loss: {epoch_loss:.4f}')\n",
    "        #scheduler.step()\n",
    "        \n",
    "        # Test\n",
    "        model.eval()\n",
    "        print('Begin test......')\n",
    "        \n",
    "        # Variables to store test loss and correct predictions\n",
    "        test_loss = 0.0\n",
    "        correct_predictions = 0\n",
    "\n",
    "        # Iterate over the test dataset\n",
    "        with torch.no_grad():\n",
    "            for inputs, labels in test_dataloader:\n",
    "                inputs, labels = inputs.to(device), labels.to(device)\n",
    "\n",
    "                # Forward pass\n",
    "                outputs = model(inputs)\n",
    "                loss = criterion(outputs, labels)\n",
    "\n",
    "                # Update test loss\n",
    "                test_loss += loss.item() * inputs.size(0)\n",
    "\n",
    "                # Calculate the number of correct predictions\n",
    "                _, preds = torch.max(outputs, 1)\n",
    "                correct_predictions += torch.sum(preds == labels.data)\n",
    "\n",
    "        # Calculate average test loss\n",
    "        average_loss = test_loss / len(test_set)\n",
    "\n",
    "        # Calculate test accuracy\n",
    "        accuracy = correct_predictions.double() / len(test_set)\n",
    "\n",
    "        # Print the results\n",
    "        print(f\"Test Loss: {average_loss:.4f},Test Accuracy: {accuracy:.4f}\")\n",
    "\n",
    "    return model"
   ]
  },
  {
   "cell_type": "code",
   "execution_count": 12,
   "id": "4d7c9e02",
   "metadata": {},
   "outputs": [
    {
     "name": "stdout",
     "output_type": "stream",
     "text": [
      "Epoch 1/10\n",
      "----------\n",
      "Epoch: 1/10 Train Loss: 4.4826\n",
      "Begin test......\n",
      "Test Loss: 3.5889,Test Accuracy: 0.2262\n",
      "Epoch 2/10\n",
      "----------\n",
      "Epoch: 2/10 Train Loss: 3.1022\n",
      "Begin test......\n",
      "Test Loss: 2.0956,Test Accuracy: 0.5035\n",
      "Epoch 3/10\n",
      "----------\n",
      "Epoch: 3/10 Train Loss: 2.0891\n",
      "Begin test......\n",
      "Test Loss: 1.7067,Test Accuracy: 0.5640\n",
      "Epoch 4/10\n",
      "----------\n",
      "Epoch: 4/10 Train Loss: 1.5432\n",
      "Begin test......\n",
      "Test Loss: 1.1654,Test Accuracy: 0.6947\n",
      "Epoch 5/10\n",
      "----------\n",
      "Epoch: 5/10 Train Loss: 1.1941\n",
      "Begin test......\n",
      "Test Loss: 1.4010,Test Accuracy: 0.6458\n",
      "Epoch 6/10\n",
      "----------\n",
      "Epoch: 6/10 Train Loss: 1.0186\n",
      "Begin test......\n",
      "Test Loss: 0.8776,Test Accuracy: 0.7746\n",
      "Epoch 7/10\n",
      "----------\n",
      "Epoch: 7/10 Train Loss: 0.9166\n",
      "Begin test......\n",
      "Test Loss: 0.8827,Test Accuracy: 0.7674\n",
      "Epoch 8/10\n",
      "----------\n",
      "Epoch: 8/10 Train Loss: 0.8372\n",
      "Begin test......\n",
      "Test Loss: 0.9147,Test Accuracy: 0.7681\n",
      "Epoch 9/10\n",
      "----------\n",
      "Epoch: 9/10 Train Loss: 0.7634\n",
      "Begin test......\n",
      "Test Loss: 1.1467,Test Accuracy: 0.7248\n",
      "Epoch 10/10\n",
      "----------\n",
      "Epoch: 10/10 Train Loss: 0.6036\n",
      "Begin test......\n",
      "Test Loss: 1.3060,Test Accuracy: 0.7056\n"
     ]
    }
   ],
   "source": [
    "model = train_model(model, criterion, optimizer, scheduler, num_epochs=10)"
   ]
  },
  {
   "cell_type": "code",
   "execution_count": null,
   "id": "4d21dd44",
   "metadata": {},
   "outputs": [],
   "source": []
  }
 ],
 "metadata": {
  "kernelspec": {
   "display_name": "Python 3 (ipykernel)",
   "language": "python",
   "name": "python3"
  },
  "language_info": {
   "codemirror_mode": {
    "name": "ipython",
    "version": 3
   },
   "file_extension": ".py",
   "mimetype": "text/x-python",
   "name": "python",
   "nbconvert_exporter": "python",
   "pygments_lexer": "ipython3",
   "version": "3.10.12"
  }
 },
 "nbformat": 4,
 "nbformat_minor": 5
}
