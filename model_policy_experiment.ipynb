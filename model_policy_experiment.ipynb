{
 "cells": [
  {
   "cell_type": "code",
   "execution_count": 1,
   "id": "b054f86f",
   "metadata": {},
   "outputs": [],
   "source": [
    "from torchvision import datasets, models, transforms\n",
    "import torchvision\n",
    "import torch\n",
    "import torch.nn as nn\n",
    "import copy"
   ]
  },
  {
   "cell_type": "code",
   "execution_count": 2,
   "id": "6665c59c",
   "metadata": {},
   "outputs": [],
   "source": [
    "# 下面两个框内代码是为了保证.py更新能及时同步到.ipynb中\n",
    "import sys\n",
    "import importlib\n",
    "import dataset_pre\n",
    "import finetune_model\n",
    "sys.path.append('./dataset_pre.py')\n",
    "sys.path.append('./finetune_model.py')"
   ]
  },
  {
   "cell_type": "code",
   "execution_count": 3,
   "id": "c5ee728d",
   "metadata": {},
   "outputs": [
    {
     "data": {
      "text/plain": [
       "<module 'finetune_model' from '/data/lab/AIb_Project/finetune_model.py'>"
      ]
     },
     "execution_count": 3,
     "metadata": {},
     "output_type": "execute_result"
    }
   ],
   "source": [
    "%load_ext autoreload\n",
    "%autoreload 1\n",
    "%aimport dataset_pre\n",
    "%aimport finetune_model\n",
    "importlib.reload(dataset_pre)\n",
    "importlib.reload(finetune_model)"
   ]
  },
  {
   "cell_type": "markdown",
   "id": "7e6bf07e",
   "metadata": {},
   "source": [
    "### Hyperparameters\n",
    "_____________________"
   ]
  },
  {
   "cell_type": "code",
   "execution_count": 4,
   "id": "3f801141",
   "metadata": {},
   "outputs": [],
   "source": [
    "# random seed\n",
    "SEED = 1\n",
    "\n",
    "# Dataset class num\n",
    "NUM_CLASSES_CHEST = 2\n",
    "\n",
    "# Training\n",
    "BATCH_SIZE = 32  ##如果是flowers102,batch_size设到64及以上会在训练的第一个epoch爆内存\n",
    "SAVE_DIR = './log'"
   ]
  },
  {
   "cell_type": "markdown",
   "id": "ea9be4e2",
   "metadata": {},
   "source": [
    "### Dataset\n",
    "_________"
   ]
  },
  {
   "cell_type": "code",
   "execution_count": 5,
   "id": "fb053bd9",
   "metadata": {},
   "outputs": [],
   "source": [
    "data_transforms = transforms.Compose([\n",
    "    transforms.RandomResizedCrop(224),\n",
    "    transforms.RandomHorizontalFlip(),\n",
    "    transforms.ToTensor(),\n",
    "    transforms.Normalize([0.485, 0.456, 0.406], [0.229, 0.224, 0.225])\n",
    "])"
   ]
  },
  {
   "cell_type": "markdown",
   "id": "1a196137",
   "metadata": {},
   "source": [
    "#### ChestX"
   ]
  },
  {
   "cell_type": "code",
   "execution_count": 6,
   "id": "8d3effaf",
   "metadata": {},
   "outputs": [],
   "source": [
    "dataset_pre.init_chestX()"
   ]
  },
  {
   "cell_type": "code",
   "execution_count": 7,
   "id": "425af44e",
   "metadata": {},
   "outputs": [],
   "source": [
    "chest_train = \"./data/chestX/train\"\n",
    "chest_test = \"./data/chestX/test\"\n",
    "test_set = torchvision.datasets.ImageFolder(root=chest_test,transform=data_transforms)\n",
    "test_dataloader = torch.utils.data.DataLoader(dataset=test_set,batch_size=BATCH_SIZE,shuffle=False)"
   ]
  },
  {
   "cell_type": "markdown",
   "id": "f581e885",
   "metadata": {},
   "source": [
    "##### Extract data for few-shot"
   ]
  },
  {
   "cell_type": "code",
   "execution_count": 8,
   "id": "889f692f",
   "metadata": {},
   "outputs": [],
   "source": [
    "base_folder = \"./data/chestX/\" \n",
    "shot_folder = '5_shot_dataset'\n",
    "images_per_class = 5"
   ]
  },
  {
   "cell_type": "code",
   "execution_count": 9,
   "id": "1d00a277",
   "metadata": {},
   "outputs": [],
   "source": [
    "dataset_pre.split_shot_data(chest_train, base_folder+shot_folder, images_per_class)"
   ]
  },
  {
   "cell_type": "code",
   "execution_count": 10,
   "id": "620797d6",
   "metadata": {},
   "outputs": [],
   "source": [
    "five_shot_set = torchvision.datasets.ImageFolder(root=base_folder+shot_folder,transform=data_transforms)\n",
    "five_shot_dataloader = torch.utils.data.DataLoader(dataset=five_shot_set,batch_size=BATCH_SIZE,shuffle=False)"
   ]
  },
  {
   "cell_type": "markdown",
   "id": "d77734be",
   "metadata": {},
   "source": [
    "### Model Layer Dimension\n",
    "___________"
   ]
  },
  {
   "cell_type": "code",
   "execution_count": 11,
   "id": "38f1a0bf",
   "metadata": {},
   "outputs": [
    {
     "name": "stderr",
     "output_type": "stream",
     "text": [
      "/usr/local/lib/python3.10/dist-packages/torchvision/models/_utils.py:208: UserWarning: The parameter 'pretrained' is deprecated since 0.13 and may be removed in the future, please use 'weights' instead.\n",
      "  warnings.warn(\n",
      "/usr/local/lib/python3.10/dist-packages/torchvision/models/_utils.py:223: UserWarning: Arguments other than a weight enum or `None` for 'weights' are deprecated since 0.13 and may be removed in the future. The current behavior is equivalent to passing `weights=VGG16_Weights.IMAGENET1K_V1`. You can also use `weights=VGG16_Weights.DEFAULT` to get the most up-to-date weights.\n",
      "  warnings.warn(msg)\n"
     ]
    }
   ],
   "source": [
    "# 加载预训练的VGG模型\n",
    "model = models.vgg16(pretrained=True)\n",
    "\n",
    "# 模型原最后一层输出类别数量\n",
    "num_features_out = model.classifier[6].out_features\n",
    "\n",
    "# 模型原最后一层输入类别数量\n",
    "num_features_in = model.classifier[6].in_features"
   ]
  },
  {
   "cell_type": "code",
   "execution_count": 12,
   "id": "7248def6",
   "metadata": {},
   "outputs": [
    {
     "name": "stdout",
     "output_type": "stream",
     "text": [
      "VGG(\n",
      "  (features): Sequential(\n",
      "    (0): Conv2d(3, 64, kernel_size=(3, 3), stride=(1, 1), padding=(1, 1))\n",
      "    (1): ReLU(inplace=True)\n",
      "    (2): Conv2d(64, 64, kernel_size=(3, 3), stride=(1, 1), padding=(1, 1))\n",
      "    (3): ReLU(inplace=True)\n",
      "    (4): MaxPool2d(kernel_size=2, stride=2, padding=0, dilation=1, ceil_mode=False)\n",
      "    (5): Conv2d(64, 128, kernel_size=(3, 3), stride=(1, 1), padding=(1, 1))\n",
      "    (6): ReLU(inplace=True)\n",
      "    (7): Conv2d(128, 128, kernel_size=(3, 3), stride=(1, 1), padding=(1, 1))\n",
      "    (8): ReLU(inplace=True)\n",
      "    (9): MaxPool2d(kernel_size=2, stride=2, padding=0, dilation=1, ceil_mode=False)\n",
      "    (10): Conv2d(128, 256, kernel_size=(3, 3), stride=(1, 1), padding=(1, 1))\n",
      "    (11): ReLU(inplace=True)\n",
      "    (12): Conv2d(256, 256, kernel_size=(3, 3), stride=(1, 1), padding=(1, 1))\n",
      "    (13): ReLU(inplace=True)\n",
      "    (14): Conv2d(256, 256, kernel_size=(3, 3), stride=(1, 1), padding=(1, 1))\n",
      "    (15): ReLU(inplace=True)\n",
      "    (16): MaxPool2d(kernel_size=2, stride=2, padding=0, dilation=1, ceil_mode=False)\n",
      "    (17): Conv2d(256, 512, kernel_size=(3, 3), stride=(1, 1), padding=(1, 1))\n",
      "    (18): ReLU(inplace=True)\n",
      "    (19): Conv2d(512, 512, kernel_size=(3, 3), stride=(1, 1), padding=(1, 1))\n",
      "    (20): ReLU(inplace=True)\n",
      "    (21): Conv2d(512, 512, kernel_size=(3, 3), stride=(1, 1), padding=(1, 1))\n",
      "    (22): ReLU(inplace=True)\n",
      "    (23): MaxPool2d(kernel_size=2, stride=2, padding=0, dilation=1, ceil_mode=False)\n",
      "    (24): Conv2d(512, 512, kernel_size=(3, 3), stride=(1, 1), padding=(1, 1))\n",
      "    (25): ReLU(inplace=True)\n",
      "    (26): Conv2d(512, 512, kernel_size=(3, 3), stride=(1, 1), padding=(1, 1))\n",
      "    (27): ReLU(inplace=True)\n",
      "    (28): Conv2d(512, 512, kernel_size=(3, 3), stride=(1, 1), padding=(1, 1))\n",
      "    (29): ReLU(inplace=True)\n",
      "    (30): MaxPool2d(kernel_size=2, stride=2, padding=0, dilation=1, ceil_mode=False)\n",
      "  )\n",
      "  (avgpool): AdaptiveAvgPool2d(output_size=(7, 7))\n",
      "  (classifier): Sequential(\n",
      "    (0): Linear(in_features=25088, out_features=4096, bias=True)\n",
      "    (1): ReLU(inplace=True)\n",
      "    (2): Dropout(p=0.5, inplace=False)\n",
      "    (3): Linear(in_features=4096, out_features=4096, bias=True)\n",
      "    (4): ReLU(inplace=True)\n",
      "    (5): Dropout(p=0.5, inplace=False)\n",
      "    (6): Linear(in_features=4096, out_features=1000, bias=True)\n",
      "  )\n",
      ")\n"
     ]
    }
   ],
   "source": [
    "print(model)"
   ]
  },
  {
   "cell_type": "markdown",
   "id": "bfc0d2ad",
   "metadata": {},
   "source": [
    "### Loss Function\n",
    "__________________________________"
   ]
  },
  {
   "cell_type": "code",
   "execution_count": 12,
   "id": "f52eafa9",
   "metadata": {},
   "outputs": [],
   "source": [
    "criterion = nn.CrossEntropyLoss()"
   ]
  },
  {
   "cell_type": "markdown",
   "id": "de68c858",
   "metadata": {},
   "source": [
    "### Device\n",
    "___________"
   ]
  },
  {
   "cell_type": "code",
   "execution_count": 13,
   "id": "160d6372",
   "metadata": {},
   "outputs": [],
   "source": [
    "device = torch.device(\"cuda:0\" if torch.cuda.is_available() else \"cpu\")"
   ]
  },
  {
   "cell_type": "code",
   "execution_count": 8,
   "id": "bd79ba0f",
   "metadata": {},
   "outputs": [
    {
     "name": "stdout",
     "output_type": "stream",
     "text": [
      "cuda:0\n"
     ]
    }
   ],
   "source": [
    "print(device)"
   ]
  },
  {
   "cell_type": "markdown",
   "id": "3e1c97cb",
   "metadata": {},
   "source": [
    "### Finetune\n",
    "_____________"
   ]
  },
  {
   "cell_type": "markdown",
   "id": "19aea28d",
   "metadata": {},
   "source": [
    "#### Fixed feature extractor"
   ]
  },
  {
   "cell_type": "code",
   "execution_count": 26,
   "id": "c196ea59",
   "metadata": {},
   "outputs": [],
   "source": [
    "model = models.vgg16(pretrained=True)\n",
    "model, optimizer, scheduler = finetune_model.fixed_feature_extracter(model, num_features_out, \n",
    "                                                                     NUM_CLASSES_CHEST, 1e-2)\n",
    "model = model.to(device)"
   ]
  },
  {
   "cell_type": "code",
   "execution_count": 29,
   "id": "ede28194",
   "metadata": {},
   "outputs": [
    {
     "name": "stdout",
     "output_type": "stream",
     "text": [
      "Epoch 1/10\n",
      "----------\n",
      "Epoch: 1/10 Train Loss: 12.8332\n",
      "Begin test......\n",
      "Test Loss: 8.4563,Test Accuracy: 0.3910\n",
      "Epoch 2/10\n",
      "----------\n",
      "Epoch: 2/10 Train Loss: 8.1812\n",
      "Begin test......\n",
      "Test Loss: 8.4254,Test Accuracy: 0.6250\n",
      "Epoch 3/10\n",
      "----------\n",
      "Epoch: 3/10 Train Loss: 13.3396\n",
      "Begin test......\n",
      "Test Loss: 6.2152,Test Accuracy: 0.6250\n",
      "Epoch 4/10\n",
      "----------\n",
      "Epoch: 4/10 Train Loss: 9.9412\n",
      "Begin test......\n",
      "Test Loss: 13.0737,Test Accuracy: 0.3990\n",
      "Epoch 5/10\n",
      "----------\n",
      "Epoch: 5/10 Train Loss: 9.3183\n",
      "Begin test......\n",
      "Test Loss: 14.8315,Test Accuracy: 0.4054\n",
      "Epoch 6/10\n",
      "----------\n",
      "Epoch: 6/10 Train Loss: 9.2610\n",
      "Begin test......\n",
      "Test Loss: 9.4064,Test Accuracy: 0.4615\n",
      "Epoch 7/10\n",
      "----------\n",
      "Epoch: 7/10 Train Loss: 6.9552\n",
      "Begin test......\n",
      "Test Loss: 2.5570,Test Accuracy: 0.6811\n",
      "Epoch 8/10\n",
      "----------\n",
      "Epoch: 8/10 Train Loss: 3.2471\n",
      "Begin test......\n",
      "Test Loss: 3.7154,Test Accuracy: 0.7163\n",
      "Epoch 9/10\n",
      "----------\n",
      "Epoch: 9/10 Train Loss: 5.4935\n",
      "Begin test......\n",
      "Test Loss: 4.6009,Test Accuracy: 0.7019\n",
      "Epoch 10/10\n",
      "----------\n",
      "Epoch: 10/10 Train Loss: 2.8547\n",
      "Begin test......\n",
      "Test Loss: 3.4578,Test Accuracy: 0.7292\n"
     ]
    }
   ],
   "source": [
    "model_new_linear_layer = finetune_model.train_model(model, device, criterion, optimizer, scheduler, \n",
    "                                                    five_shot_set, five_shot_dataloader, test_set, test_dataloader, 10)"
   ]
  },
  {
   "cell_type": "markdown",
   "id": "d63633df",
   "metadata": {},
   "source": [
    "#### All fit"
   ]
  },
  {
   "cell_type": "markdown",
   "id": "9486dbd5",
   "metadata": {},
   "source": [
    "1. all fit linear classifier"
   ]
  },
  {
   "cell_type": "code",
   "execution_count": 32,
   "id": "fe2b91bb",
   "metadata": {},
   "outputs": [],
   "source": [
    "model = models.vgg16(pretrained=True)\n",
    "model, optimizer, scheduler = finetune_model.all_fit(\"linear\", model, num_features_in, NUM_CLASSES_CHEST, 1e-3)\n",
    "                                                                    \n",
    "model = model.to(device)\n",
    "model_before_finetune = copy.deepcopy(model)"
   ]
  },
  {
   "cell_type": "code",
   "execution_count": 33,
   "id": "d2945ba8",
   "metadata": {},
   "outputs": [
    {
     "name": "stdout",
     "output_type": "stream",
     "text": [
      "Epoch 1/10\n",
      "----------\n",
      "Epoch: 1/10 Train Loss: 0.7465\n",
      "Begin test......\n",
      "Test Loss: 0.7254,Test Accuracy: 0.4375\n",
      "Epoch 2/10\n",
      "----------\n",
      "Epoch: 2/10 Train Loss: 0.6242\n",
      "Begin test......\n",
      "Test Loss: 0.7524,Test Accuracy: 0.4231\n",
      "Epoch 3/10\n",
      "----------\n",
      "Epoch: 3/10 Train Loss: 0.6057\n",
      "Begin test......\n",
      "Test Loss: 0.7719,Test Accuracy: 0.4119\n",
      "Epoch 4/10\n",
      "----------\n",
      "Epoch: 4/10 Train Loss: 0.7005\n",
      "Begin test......\n",
      "Test Loss: 0.7854,Test Accuracy: 0.4151\n",
      "Epoch 5/10\n",
      "----------\n",
      "Epoch: 5/10 Train Loss: 0.6870\n",
      "Begin test......\n",
      "Test Loss: 0.7797,Test Accuracy: 0.4487\n",
      "Epoch 6/10\n",
      "----------\n",
      "Epoch: 6/10 Train Loss: 0.6759\n",
      "Begin test......\n",
      "Test Loss: 0.7573,Test Accuracy: 0.4631\n",
      "Epoch 7/10\n",
      "----------\n",
      "Epoch: 7/10 Train Loss: 0.7769\n",
      "Begin test......\n",
      "Test Loss: 0.7174,Test Accuracy: 0.4952\n",
      "Epoch 8/10\n",
      "----------\n",
      "Epoch: 8/10 Train Loss: 0.4527\n",
      "Begin test......\n",
      "Test Loss: 0.6736,Test Accuracy: 0.5897\n",
      "Epoch 9/10\n",
      "----------\n",
      "Epoch: 9/10 Train Loss: 0.5088\n",
      "Begin test......\n",
      "Test Loss: 0.6507,Test Accuracy: 0.6202\n",
      "Epoch 10/10\n",
      "----------\n",
      "Epoch: 10/10 Train Loss: 0.6618\n",
      "Begin test......\n",
      "Test Loss: 0.6220,Test Accuracy: 0.7035\n"
     ]
    }
   ],
   "source": [
    "model_change_linear = finetune_model.train_model(model, device, criterion, optimizer, scheduler, \n",
    "                                                 five_shot_set, five_shot_dataloader, test_set, test_dataloader, 10)"
   ]
  },
  {
   "cell_type": "code",
   "execution_count": 34,
   "id": "0a4ed458",
   "metadata": {},
   "outputs": [
    {
     "name": "stdout",
     "output_type": "stream",
     "text": [
      "Layer: features.0.weight, Change Percentage: 0.0012\n",
      "Layer: features.0.bias, Change Percentage: 0.0007\n",
      "Layer: features.2.weight, Change Percentage: 0.0013\n",
      "Layer: features.2.bias, Change Percentage: 0.0009\n",
      "Layer: features.5.weight, Change Percentage: 0.0008\n",
      "Layer: features.5.bias, Change Percentage: 0.0006\n",
      "Layer: features.7.weight, Change Percentage: 0.0009\n",
      "Layer: features.7.bias, Change Percentage: 0.0004\n",
      "Layer: features.10.weight, Change Percentage: 0.0009\n",
      "Layer: features.10.bias, Change Percentage: 0.0003\n",
      "Layer: features.12.weight, Change Percentage: 0.0009\n",
      "Layer: features.12.bias, Change Percentage: 0.0002\n",
      "Layer: features.14.weight, Change Percentage: 0.0009\n",
      "Layer: features.14.bias, Change Percentage: 0.0002\n",
      "Layer: features.17.weight, Change Percentage: 0.0010\n",
      "Layer: features.17.bias, Change Percentage: 0.0001\n",
      "Layer: features.19.weight, Change Percentage: 0.0011\n",
      "Layer: features.19.bias, Change Percentage: 0.0001\n",
      "Layer: features.21.weight, Change Percentage: 0.0011\n",
      "Layer: features.21.bias, Change Percentage: 0.0002\n",
      "Layer: features.24.weight, Change Percentage: 0.0010\n",
      "Layer: features.24.bias, Change Percentage: 0.0002\n",
      "Layer: features.26.weight, Change Percentage: 0.0010\n",
      "Layer: features.26.bias, Change Percentage: 0.0001\n",
      "Layer: features.28.weight, Change Percentage: 0.0009\n",
      "Layer: features.28.bias, Change Percentage: 0.0002\n",
      "Layer: classifier.0.weight, Change Percentage: 0.0009\n",
      "Layer: classifier.0.bias, Change Percentage: 0.0003\n",
      "Layer: classifier.3.weight, Change Percentage: 0.0015\n",
      "Layer: classifier.3.bias, Change Percentage: 0.0002\n",
      "Layer: classifier.6.weight, Change Percentage: 0.1278\n",
      "Layer: classifier.6.bias, Change Percentage: 0.0623\n"
     ]
    }
   ],
   "source": [
    "param_changes = finetune_model.compare_params(model_before_finetune, model_change_linear)\n",
    "# 打印每一层参数的改变率\n",
    "for name, change_percentage in param_changes.items():\n",
    "    print(f\"Layer: {name}, Change Percentage: {change_percentage:.4f}\")\n",
    "## 这个结论怎么办？为什么会这样？"
   ]
  },
  {
   "cell_type": "markdown",
   "id": "132956d1",
   "metadata": {},
   "source": [
    "2. all fit mean centroid classifier"
   ]
  },
  {
   "cell_type": "code",
   "execution_count": 14,
   "id": "2eb5ffa8",
   "metadata": {},
   "outputs": [],
   "source": [
    "model = models.vgg16(pretrained=True)\n",
    "model, optimizer, scheduler = finetune_model.all_fit(\"mean_centroid\", model, num_features_in, \n",
    "                                                     NUM_CLASSES_CHEST, 1e-1)\n",
    "                                                                    \n",
    "model = model.to(device)"
   ]
  },
  {
   "cell_type": "code",
   "execution_count": 15,
   "id": "6e664d1e",
   "metadata": {},
   "outputs": [
    {
     "name": "stdout",
     "output_type": "stream",
     "text": [
      "Epoch 1/25\n",
      "----------\n",
      "Epoch: 1/25 Train Loss: 0.6960\n",
      "Begin test......\n",
      "Test Loss: 0.6952,Test Accuracy: 0.4006\n",
      "Epoch 2/25\n",
      "----------\n",
      "Epoch: 2/25 Train Loss: 0.6895\n",
      "Begin test......\n",
      "Test Loss: 0.6943,Test Accuracy: 0.4423\n",
      "Epoch 3/25\n",
      "----------\n",
      "Epoch: 3/25 Train Loss: 0.6925\n",
      "Begin test......\n",
      "Test Loss: 0.6938,Test Accuracy: 0.4647\n",
      "Epoch 4/25\n",
      "----------\n",
      "Epoch: 4/25 Train Loss: 0.6866\n",
      "Begin test......\n",
      "Test Loss: 0.6919,Test Accuracy: 0.5561\n",
      "Epoch 5/25\n",
      "----------\n",
      "Epoch: 5/25 Train Loss: 0.6927\n",
      "Begin test......\n",
      "Test Loss: 0.6934,Test Accuracy: 0.4503\n",
      "Epoch 6/25\n",
      "----------\n",
      "Epoch: 6/25 Train Loss: 0.6943\n",
      "Begin test......\n",
      "Test Loss: 0.6936,Test Accuracy: 0.4455\n",
      "Epoch 7/25\n",
      "----------\n",
      "Epoch: 7/25 Train Loss: 0.6870\n",
      "Begin test......\n",
      "Test Loss: 0.6949,Test Accuracy: 0.3830\n",
      "Epoch 8/25\n",
      "----------\n",
      "Epoch: 8/25 Train Loss: 0.6833\n",
      "Begin test......\n",
      "Test Loss: 0.6940,Test Accuracy: 0.4006\n",
      "Epoch 9/25\n",
      "----------\n",
      "Epoch: 9/25 Train Loss: 0.6909\n",
      "Begin test......\n",
      "Test Loss: 0.6945,Test Accuracy: 0.3926\n",
      "Epoch 10/25\n",
      "----------\n",
      "Epoch: 10/25 Train Loss: 0.6845\n",
      "Begin test......\n",
      "Test Loss: 0.6933,Test Accuracy: 0.4103\n",
      "Epoch 11/25\n",
      "----------\n",
      "Epoch: 11/25 Train Loss: 0.6813\n",
      "Begin test......\n",
      "Test Loss: 0.6923,Test Accuracy: 0.4279\n",
      "Epoch 12/25\n",
      "----------\n",
      "Epoch: 12/25 Train Loss: 0.6851\n",
      "Begin test......\n",
      "Test Loss: 0.6911,Test Accuracy: 0.4487\n",
      "Epoch 13/25\n",
      "----------\n",
      "Epoch: 13/25 Train Loss: 0.6912\n",
      "Begin test......\n",
      "Test Loss: 0.6901,Test Accuracy: 0.5353\n",
      "Epoch 14/25\n",
      "----------\n",
      "Epoch: 14/25 Train Loss: 0.6784\n",
      "Begin test......\n",
      "Test Loss: 0.6888,Test Accuracy: 0.5769\n",
      "Epoch 15/25\n",
      "----------\n",
      "Epoch: 15/25 Train Loss: 0.6808\n",
      "Begin test......\n",
      "Test Loss: 0.6868,Test Accuracy: 0.6378\n",
      "Epoch 16/25\n",
      "----------\n",
      "Epoch: 16/25 Train Loss: 0.6794\n",
      "Begin test......\n",
      "Test Loss: 0.6866,Test Accuracy: 0.6298\n",
      "Epoch 17/25\n",
      "----------\n",
      "Epoch: 17/25 Train Loss: 0.6745\n",
      "Begin test......\n",
      "Test Loss: 0.6853,Test Accuracy: 0.6506\n",
      "Epoch 18/25\n",
      "----------\n",
      "Epoch: 18/25 Train Loss: 0.6850\n",
      "Begin test......\n",
      "Test Loss: 0.6835,Test Accuracy: 0.6715\n",
      "Epoch 19/25\n",
      "----------\n",
      "Epoch: 19/25 Train Loss: 0.6763\n",
      "Begin test......\n",
      "Test Loss: 0.6829,Test Accuracy: 0.7003\n",
      "Epoch 20/25\n",
      "----------\n",
      "Epoch: 20/25 Train Loss: 0.6703\n",
      "Begin test......\n",
      "Test Loss: 0.6801,Test Accuracy: 0.7115\n",
      "Epoch 21/25\n",
      "----------\n",
      "Epoch: 21/25 Train Loss: 0.6758\n",
      "Begin test......\n",
      "Test Loss: 0.6803,Test Accuracy: 0.6955\n",
      "Epoch 22/25\n",
      "----------\n",
      "Epoch: 22/25 Train Loss: 0.6768\n",
      "Begin test......\n",
      "Test Loss: 0.6788,Test Accuracy: 0.7163\n",
      "Epoch 23/25\n",
      "----------\n",
      "Epoch: 23/25 Train Loss: 0.6678\n",
      "Begin test......\n",
      "Test Loss: 0.6786,Test Accuracy: 0.7244\n",
      "Epoch 24/25\n",
      "----------\n",
      "Epoch: 24/25 Train Loss: 0.6687\n",
      "Begin test......\n",
      "Test Loss: 0.6778,Test Accuracy: 0.7244\n",
      "Epoch 25/25\n",
      "----------\n",
      "Epoch: 25/25 Train Loss: 0.6663\n",
      "Begin test......\n",
      "Test Loss: 0.6762,Test Accuracy: 0.7308\n"
     ]
    }
   ],
   "source": [
    "model_change_centroid = finetune_model.train_model(model, device, criterion, optimizer, scheduler, \n",
    "                                                 five_shot_set, five_shot_dataloader, test_set, test_dataloader, 25)"
   ]
  },
  {
   "cell_type": "markdown",
   "id": "6a8254c5",
   "metadata": {},
   "source": [
    "3. all fit cosine classifier"
   ]
  },
  {
   "cell_type": "code",
   "execution_count": 16,
   "id": "15e8f3d7",
   "metadata": {},
   "outputs": [],
   "source": [
    "model = models.vgg16(pretrained=True)\n",
    "model, optimizer, scheduler = finetune_model.all_fit(\"cosine\", model, num_features_in, \n",
    "                                                     NUM_CLASSES_CHEST, 1e-1)\n",
    "                                                                    \n",
    "model = model.to(device)"
   ]
  },
  {
   "cell_type": "code",
   "execution_count": 17,
   "id": "b9313b1e",
   "metadata": {},
   "outputs": [
    {
     "name": "stdout",
     "output_type": "stream",
     "text": [
      "Epoch 1/25\n",
      "----------\n",
      "Epoch: 1/25 Train Loss: 0.6935\n",
      "Begin test......\n",
      "Test Loss: 0.6928,Test Accuracy: 0.5096\n",
      "Epoch 2/25\n",
      "----------\n",
      "Epoch: 2/25 Train Loss: 0.6945\n",
      "Begin test......\n",
      "Test Loss: 0.6921,Test Accuracy: 0.5657\n",
      "Epoch 3/25\n",
      "----------\n",
      "Epoch: 3/25 Train Loss: 0.6920\n",
      "Begin test......\n",
      "Test Loss: 0.6910,Test Accuracy: 0.6138\n",
      "Epoch 4/25\n",
      "----------\n",
      "Epoch: 4/25 Train Loss: 0.6984\n",
      "Begin test......\n",
      "Test Loss: 0.6894,Test Accuracy: 0.6571\n",
      "Epoch 5/25\n",
      "----------\n",
      "Epoch: 5/25 Train Loss: 0.6865\n",
      "Begin test......\n",
      "Test Loss: 0.6874,Test Accuracy: 0.7051\n",
      "Epoch 6/25\n",
      "----------\n",
      "Epoch: 6/25 Train Loss: 0.6878\n",
      "Begin test......\n",
      "Test Loss: 0.6873,Test Accuracy: 0.6795\n",
      "Epoch 7/25\n",
      "----------\n",
      "Epoch: 7/25 Train Loss: 0.6828\n",
      "Begin test......\n",
      "Test Loss: 0.6869,Test Accuracy: 0.7115\n",
      "Epoch 8/25\n",
      "----------\n",
      "Epoch: 8/25 Train Loss: 0.6847\n",
      "Begin test......\n",
      "Test Loss: 0.6871,Test Accuracy: 0.6843\n",
      "Epoch 9/25\n",
      "----------\n",
      "Epoch: 9/25 Train Loss: 0.6925\n",
      "Begin test......\n",
      "Test Loss: 0.6862,Test Accuracy: 0.7244\n",
      "Epoch 10/25\n",
      "----------\n",
      "Epoch: 10/25 Train Loss: 0.6827\n",
      "Begin test......\n",
      "Test Loss: 0.6860,Test Accuracy: 0.6779\n",
      "Epoch 11/25\n",
      "----------\n",
      "Epoch: 11/25 Train Loss: 0.6744\n",
      "Begin test......\n",
      "Test Loss: 0.6837,Test Accuracy: 0.6971\n",
      "Epoch 12/25\n",
      "----------\n",
      "Epoch: 12/25 Train Loss: 0.6834\n",
      "Begin test......\n",
      "Test Loss: 0.6846,Test Accuracy: 0.6603\n",
      "Epoch 13/25\n",
      "----------\n",
      "Epoch: 13/25 Train Loss: 0.6845\n",
      "Begin test......\n",
      "Test Loss: 0.6823,Test Accuracy: 0.6907\n",
      "Epoch 14/25\n",
      "----------\n",
      "Epoch: 14/25 Train Loss: 0.6717\n",
      "Begin test......\n",
      "Test Loss: 0.6809,Test Accuracy: 0.6971\n",
      "Epoch 15/25\n",
      "----------\n",
      "Epoch: 15/25 Train Loss: 0.6778\n",
      "Begin test......\n",
      "Test Loss: 0.6813,Test Accuracy: 0.6619\n",
      "Epoch 16/25\n",
      "----------\n",
      "Epoch: 16/25 Train Loss: 0.6845\n",
      "Begin test......\n",
      "Test Loss: 0.6798,Test Accuracy: 0.6891\n",
      "Epoch 17/25\n",
      "----------\n",
      "Epoch: 17/25 Train Loss: 0.6700\n",
      "Begin test......\n",
      "Test Loss: 0.6790,Test Accuracy: 0.6955\n",
      "Epoch 18/25\n",
      "----------\n",
      "Epoch: 18/25 Train Loss: 0.6853\n",
      "Begin test......\n",
      "Test Loss: 0.6764,Test Accuracy: 0.7324\n",
      "Epoch 19/25\n",
      "----------\n",
      "Epoch: 19/25 Train Loss: 0.6758\n",
      "Begin test......\n",
      "Test Loss: 0.6782,Test Accuracy: 0.6939\n",
      "Epoch 20/25\n",
      "----------\n",
      "Epoch: 20/25 Train Loss: 0.6757\n",
      "Begin test......\n",
      "Test Loss: 0.6753,Test Accuracy: 0.7244\n",
      "Epoch 21/25\n",
      "----------\n",
      "Epoch: 21/25 Train Loss: 0.6747\n",
      "Begin test......\n",
      "Test Loss: 0.6767,Test Accuracy: 0.6987\n",
      "Epoch 22/25\n",
      "----------\n",
      "Epoch: 22/25 Train Loss: 0.6683\n",
      "Begin test......\n",
      "Test Loss: 0.6739,Test Accuracy: 0.7260\n",
      "Epoch 23/25\n",
      "----------\n",
      "Epoch: 23/25 Train Loss: 0.6726\n",
      "Begin test......\n",
      "Test Loss: 0.6722,Test Accuracy: 0.7452\n",
      "Epoch 24/25\n",
      "----------\n",
      "Epoch: 24/25 Train Loss: 0.6810\n",
      "Begin test......\n",
      "Test Loss: 0.6743,Test Accuracy: 0.7244\n",
      "Epoch 25/25\n",
      "----------\n",
      "Epoch: 25/25 Train Loss: 0.6773\n",
      "Begin test......\n",
      "Test Loss: 0.6715,Test Accuracy: 0.7548\n"
     ]
    }
   ],
   "source": [
    "model_change_cosine = finetune_model.train_model(model, device, criterion, optimizer, scheduler, \n",
    "                                                 five_shot_set, five_shot_dataloader, test_set, test_dataloader, 25)"
   ]
  },
  {
   "cell_type": "markdown",
   "id": "8ecdda1f",
   "metadata": {},
   "source": [
    "#### Fit last k(1,2,3)"
   ]
  },
  {
   "cell_type": "markdown",
   "id": "adf7f253",
   "metadata": {},
   "source": [
    "1. fit last1"
   ]
  },
  {
   "cell_type": "code",
   "execution_count": 14,
   "id": "cd1b7c91",
   "metadata": {},
   "outputs": [],
   "source": [
    "model = models.vgg16(pretrained=True)\n",
    "model, optimizer, scheduler = finetune_model.fit_last(model, num_features_in, \n",
    "                                                     NUM_CLASSES_CHEST, 1e-2, 1)\n",
    "\n",
    "model = model.to(device)"
   ]
  },
  {
   "cell_type": "code",
   "execution_count": 16,
   "id": "685e3696",
   "metadata": {},
   "outputs": [
    {
     "name": "stdout",
     "output_type": "stream",
     "text": [
      "Epoch 1/10\n",
      "----------\n",
      "Epoch: 1/10 Train Loss: 0.9316\n",
      "Begin test......\n",
      "Test Loss: 0.7089,Test Accuracy: 0.5288\n",
      "Epoch 2/10\n",
      "----------\n",
      "Epoch: 2/10 Train Loss: 0.7640\n",
      "Begin test......\n",
      "Test Loss: 0.8438,Test Accuracy: 0.6250\n",
      "Epoch 3/10\n",
      "----------\n",
      "Epoch: 3/10 Train Loss: 1.0760\n",
      "Begin test......\n",
      "Test Loss: 0.7606,Test Accuracy: 0.6122\n",
      "Epoch 4/10\n",
      "----------\n",
      "Epoch: 4/10 Train Loss: 0.9286\n",
      "Begin test......\n",
      "Test Loss: 1.0769,Test Accuracy: 0.5128\n",
      "Epoch 5/10\n",
      "----------\n",
      "Epoch: 5/10 Train Loss: 0.8411\n",
      "Begin test......\n",
      "Test Loss: 0.8211,Test Accuracy: 0.6234\n",
      "Epoch 6/10\n",
      "----------\n",
      "Epoch: 6/10 Train Loss: 0.2919\n",
      "Begin test......\n",
      "Test Loss: 0.7006,Test Accuracy: 0.6811\n",
      "Epoch 7/10\n",
      "----------\n",
      "Epoch: 7/10 Train Loss: 0.5583\n",
      "Begin test......\n",
      "Test Loss: 0.7335,Test Accuracy: 0.7003\n",
      "Epoch 8/10\n",
      "----------\n",
      "Epoch: 8/10 Train Loss: 0.9337\n",
      "Begin test......\n",
      "Test Loss: 0.6418,Test Accuracy: 0.7179\n",
      "Epoch 9/10\n",
      "----------\n",
      "Epoch: 9/10 Train Loss: 0.1171\n",
      "Begin test......\n",
      "Test Loss: 0.8696,Test Accuracy: 0.6346\n",
      "Epoch 10/10\n",
      "----------\n",
      "Epoch: 10/10 Train Loss: 0.1569\n",
      "Begin test......\n",
      "Test Loss: 1.1985,Test Accuracy: 0.5401\n"
     ]
    }
   ],
   "source": [
    "model_fit_l1 = finetune_model.train_model(model, device, criterion, optimizer, scheduler, \n",
    "                                          five_shot_set, five_shot_dataloader, test_set, test_dataloader, 10)"
   ]
  },
  {
   "cell_type": "markdown",
   "id": "a2d2e8aa",
   "metadata": {},
   "source": [
    "2. fit last2"
   ]
  },
  {
   "cell_type": "code",
   "execution_count": 19,
   "id": "148f74fe",
   "metadata": {},
   "outputs": [],
   "source": [
    "model = models.vgg16(pretrained=True)\n",
    "model, optimizer, scheduler = finetune_model.fit_last(model, num_features_in, \n",
    "                                                     NUM_CLASSES_CHEST, 1e-2, 2)\n",
    "\n",
    "model = model.to(device)"
   ]
  },
  {
   "cell_type": "code",
   "execution_count": 20,
   "id": "487891a4",
   "metadata": {},
   "outputs": [
    {
     "name": "stdout",
     "output_type": "stream",
     "text": [
      "Epoch 1/15\n",
      "----------\n",
      "Epoch: 1/15 Train Loss: 0.6473\n",
      "Begin test......\n",
      "Test Loss: 0.7664,Test Accuracy: 0.3766\n",
      "Epoch 2/15\n",
      "----------\n",
      "Epoch: 2/15 Train Loss: 0.6774\n",
      "Begin test......\n",
      "Test Loss: 0.7225,Test Accuracy: 0.4215\n",
      "Epoch 3/15\n",
      "----------\n",
      "Epoch: 3/15 Train Loss: 0.6726\n",
      "Begin test......\n",
      "Test Loss: 0.6834,Test Accuracy: 0.5721\n",
      "Epoch 4/15\n",
      "----------\n",
      "Epoch: 4/15 Train Loss: 0.6684\n",
      "Begin test......\n",
      "Test Loss: 0.6631,Test Accuracy: 0.6090\n",
      "Epoch 5/15\n",
      "----------\n",
      "Epoch: 5/15 Train Loss: 0.6416\n",
      "Begin test......\n",
      "Test Loss: 0.6525,Test Accuracy: 0.6298\n",
      "Epoch 6/15\n",
      "----------\n",
      "Epoch: 6/15 Train Loss: 0.5414\n",
      "Begin test......\n",
      "Test Loss: 0.6437,Test Accuracy: 0.6250\n",
      "Epoch 7/15\n",
      "----------\n",
      "Epoch: 7/15 Train Loss: 0.6116\n",
      "Begin test......\n",
      "Test Loss: 0.6428,Test Accuracy: 0.6298\n",
      "Epoch 8/15\n",
      "----------\n",
      "Epoch: 8/15 Train Loss: 0.5952\n",
      "Begin test......\n",
      "Test Loss: 0.6680,Test Accuracy: 0.5849\n",
      "Epoch 9/15\n",
      "----------\n",
      "Epoch: 9/15 Train Loss: 0.4385\n",
      "Begin test......\n",
      "Test Loss: 0.6657,Test Accuracy: 0.5881\n",
      "Epoch 10/15\n",
      "----------\n",
      "Epoch: 10/15 Train Loss: 0.3819\n",
      "Begin test......\n",
      "Test Loss: 0.6578,Test Accuracy: 0.6042\n",
      "Epoch 11/15\n",
      "----------\n",
      "Epoch: 11/15 Train Loss: 0.5519\n",
      "Begin test......\n",
      "Test Loss: 0.6609,Test Accuracy: 0.6330\n",
      "Epoch 12/15\n",
      "----------\n",
      "Epoch: 12/15 Train Loss: 0.5740\n",
      "Begin test......\n",
      "Test Loss: 0.6734,Test Accuracy: 0.5817\n",
      "Epoch 13/15\n",
      "----------\n",
      "Epoch: 13/15 Train Loss: 0.6833\n",
      "Begin test......\n",
      "Test Loss: 0.6670,Test Accuracy: 0.5897\n",
      "Epoch 14/15\n",
      "----------\n",
      "Epoch: 14/15 Train Loss: 0.4279\n",
      "Begin test......\n",
      "Test Loss: 0.6786,Test Accuracy: 0.6138\n",
      "Epoch 15/15\n",
      "----------\n",
      "Epoch: 15/15 Train Loss: 0.5783\n",
      "Begin test......\n",
      "Test Loss: 0.6424,Test Accuracy: 0.6202\n"
     ]
    }
   ],
   "source": [
    "model_fit_l2 = finetune_model.train_model(model, device, criterion, optimizer, scheduler, \n",
    "                                          five_shot_set, five_shot_dataloader, test_set, test_dataloader, 15)"
   ]
  },
  {
   "cell_type": "markdown",
   "id": "09cb2cba",
   "metadata": {},
   "source": [
    "3. fit last3"
   ]
  },
  {
   "cell_type": "code",
   "execution_count": 23,
   "id": "42def57e",
   "metadata": {},
   "outputs": [],
   "source": [
    "model = models.vgg16(pretrained=True)\n",
    "model, optimizer, scheduler = finetune_model.fit_last(model, num_features_in, \n",
    "                                                     NUM_CLASSES_CHEST, 1e-1, 3)\n",
    "\n",
    "model = model.to(device)"
   ]
  },
  {
   "cell_type": "code",
   "execution_count": 24,
   "id": "569d87c1",
   "metadata": {},
   "outputs": [
    {
     "name": "stdout",
     "output_type": "stream",
     "text": [
      "Epoch 1/15\n",
      "----------\n",
      "Epoch: 1/15 Train Loss: 0.6723\n",
      "Begin test......\n",
      "Test Loss: 0.7077,Test Accuracy: 0.4792\n",
      "Epoch 2/15\n",
      "----------\n",
      "Epoch: 2/15 Train Loss: 0.4992\n",
      "Begin test......\n",
      "Test Loss: 0.6944,Test Accuracy: 0.5304\n",
      "Epoch 3/15\n",
      "----------\n",
      "Epoch: 3/15 Train Loss: 0.4355\n",
      "Begin test......\n",
      "Test Loss: 0.6969,Test Accuracy: 0.5449\n",
      "Epoch 4/15\n",
      "----------\n",
      "Epoch: 4/15 Train Loss: 0.5596\n",
      "Begin test......\n",
      "Test Loss: 0.7227,Test Accuracy: 0.5337\n",
      "Epoch 5/15\n",
      "----------\n",
      "Epoch: 5/15 Train Loss: 0.6612\n",
      "Begin test......\n",
      "Test Loss: 0.6501,Test Accuracy: 0.5946\n",
      "Epoch 6/15\n",
      "----------\n",
      "Epoch: 6/15 Train Loss: 0.7079\n",
      "Begin test......\n",
      "Test Loss: 0.6533,Test Accuracy: 0.6122\n",
      "Epoch 7/15\n",
      "----------\n",
      "Epoch: 7/15 Train Loss: 0.7235\n",
      "Begin test......\n",
      "Test Loss: 0.6427,Test Accuracy: 0.6571\n",
      "Epoch 8/15\n",
      "----------\n",
      "Epoch: 8/15 Train Loss: 0.6620\n",
      "Begin test......\n",
      "Test Loss: 0.6582,Test Accuracy: 0.6074\n",
      "Epoch 9/15\n",
      "----------\n",
      "Epoch: 9/15 Train Loss: 0.6426\n",
      "Begin test......\n",
      "Test Loss: 0.6558,Test Accuracy: 0.6250\n",
      "Epoch 10/15\n",
      "----------\n",
      "Epoch: 10/15 Train Loss: 0.3722\n",
      "Begin test......\n",
      "Test Loss: 0.6777,Test Accuracy: 0.5946\n",
      "Epoch 11/15\n",
      "----------\n",
      "Epoch: 11/15 Train Loss: 0.4863\n",
      "Begin test......\n",
      "Test Loss: 0.7062,Test Accuracy: 0.5433\n",
      "Epoch 12/15\n",
      "----------\n",
      "Epoch: 12/15 Train Loss: 0.4188\n",
      "Begin test......\n",
      "Test Loss: 0.7068,Test Accuracy: 0.5513\n",
      "Epoch 13/15\n",
      "----------\n",
      "Epoch: 13/15 Train Loss: 0.6331\n",
      "Begin test......\n",
      "Test Loss: 0.6567,Test Accuracy: 0.6314\n",
      "Epoch 14/15\n",
      "----------\n",
      "Epoch: 14/15 Train Loss: 0.4688\n",
      "Begin test......\n",
      "Test Loss: 0.6656,Test Accuracy: 0.5978\n",
      "Epoch 15/15\n",
      "----------\n",
      "Epoch: 15/15 Train Loss: 0.3933\n",
      "Begin test......\n",
      "Test Loss: 0.6273,Test Accuracy: 0.6442\n"
     ]
    }
   ],
   "source": [
    "model_fit_l3 = finetune_model.train_model(model, device, criterion, optimizer, scheduler, \n",
    "                                          five_shot_set, five_shot_dataloader, test_set, test_dataloader, 15)"
   ]
  },
  {
   "cell_type": "code",
   "execution_count": null,
   "id": "13992b62",
   "metadata": {},
   "outputs": [],
   "source": []
  }
 ],
 "metadata": {
  "kernelspec": {
   "display_name": "Python 3 (ipykernel)",
   "language": "python",
   "name": "python3"
  },
  "language_info": {
   "codemirror_mode": {
    "name": "ipython",
    "version": 3
   },
   "file_extension": ".py",
   "mimetype": "text/x-python",
   "name": "python",
   "nbconvert_exporter": "python",
   "pygments_lexer": "ipython3",
   "version": "3.10.12"
  }
 },
 "nbformat": 4,
 "nbformat_minor": 5
}
