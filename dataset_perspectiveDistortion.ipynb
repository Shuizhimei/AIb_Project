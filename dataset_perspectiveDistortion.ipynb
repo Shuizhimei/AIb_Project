{
 "cells": [
  {
   "cell_type": "code",
   "execution_count": 66,
   "metadata": {},
   "outputs": [],
   "source": [
    "import cv2\n",
    "import numpy as np\n",
    "import os\n",
    "import math\n",
    "from tqdm import tqdm\n",
    "import matplotlib.pyplot as plt"
   ]
  },
  {
   "cell_type": "markdown",
   "metadata": {},
   "source": [
    "## Define functions"
   ]
  },
  {
   "cell_type": "markdown",
   "metadata": {},
   "source": [
    "计算一个图片的透视畸变的强度"
   ]
  },
  {
   "cell_type": "code",
   "execution_count": 67,
   "metadata": {},
   "outputs": [],
   "source": [
    "# 计算一个图片的透视畸变的强度\n",
    "def image_perspective_distortion(image_path):\n",
    "    # 读取图像\n",
    "    image = cv2.imread(image_path)\n",
    "    \n",
    "    # 将图像转换为灰度\n",
    "    gray = cv2.cvtColor(image, cv2.COLOR_BGR2GRAY)\n",
    "\n",
    "    # 使用Canny边缘检测\n",
    "    edges = cv2.Canny(gray, 50, 150, apertureSize=3)\n",
    "\n",
    "    # 使用霍夫变换检测直线\n",
    "    lines = cv2.HoughLines(edges, 1, np.pi / 180, threshold=100)\n",
    "    \n",
    "    if lines is None:\n",
    "        return 0\n",
    "    # 计算直线的斜率和截距\n",
    "    slopes = []\n",
    "    intercepts = []\n",
    "    for line in lines:\n",
    "        rho, theta = line[0]\n",
    "        a = np.cos(theta)\n",
    "        b = np.sin(theta)\n",
    "        x0 = a * rho\n",
    "        y0 = b * rho\n",
    "        x1 = int(x0 + 1000 * (-b))\n",
    "        y1 = int(y0 + 1000 * (a))\n",
    "        x2 = int(x0 - 1000 * (-b))\n",
    "        y2 = int(y0 - 1000 * (a))\n",
    "\n",
    "        # 避免竖直线导致的除零错误\n",
    "        if x1 != x2:\n",
    "            slope = (y2 - y1) / (x2 - x1)\n",
    "            intercept = y1 - slope * x1\n",
    "            slopes.append(slope)\n",
    "            intercepts.append(intercept)\n",
    "\n",
    "    # 计算消失点的平均位置\n",
    "    if slopes:\n",
    "        avg_slope = np.mean(slopes)\n",
    "        avg_intercept = np.mean(intercepts)\n",
    "        vanishing_point_x = int(image.shape[1] / 2)\n",
    "        vanishing_point_y = int(avg_slope * vanishing_point_x + avg_intercept)\n",
    "\n",
    "        # 计算透视畸变的强度（消失点到图像中心的距离）\n",
    "        distortion_strength = np.linalg.norm([vanishing_point_x - image.shape[1] / 2, vanishing_point_y - image.shape[0] / 2])\n",
    "\n",
    "        return distortion_strength\n",
    "    else:\n",
    "        return 0\n",
    "\n",
    "# 使用示例\n",
    "image_path = 'data/mini-imagenet/images/dugong/n0207436700000409.jpg'\n",
    "distortion_strength = image_perspective_distortion(image_path)"
   ]
  },
  {
   "cell_type": "markdown",
   "metadata": {},
   "source": [
    "计算两个数据集之间的 perspective_distortion 关系"
   ]
  },
  {
   "cell_type": "code",
   "execution_count": 68,
   "metadata": {},
   "outputs": [],
   "source": [
    "# 计算两个数据集之间的 perspective_distortion 关系\n",
    "def dataset_perspective_distortion(source_path,target_path,alpha,heuristic):\n",
    "    # 分别得到数据集的标签列表\n",
    "    source_class = os.listdir(source_path)\n",
    "    target_class = os.listdir(target_path)\n",
    "        \n",
    "\n",
    "    # # 遍历第 source 数据集的标签\n",
    "    # source_valuelist = []\n",
    "    # for i in tqdm(source_class):\n",
    "    #     class_i = os.path.join(source_path, i)\n",
    "        \n",
    "    #     # 遍历类别下的每张图片\n",
    "    #     distortion_strength = 0\n",
    "    #     for image_name in os.listdir(class_i):\n",
    "    #         image_path = os.path.join(class_i, image_name)\n",
    "    #         distortion_strength += image_perspective_distortion(image_path)\n",
    "            \n",
    "        \n",
    "    #     mean_distortion_strength = distortion_strength / len(os.listdir(class_i))    \n",
    "    #     source_valuelist.append(mean_distortion_strength)   \n",
    "            \n",
    "    # 遍历第 target 数据集的标签\n",
    "    target_valuelist = []\n",
    "    for j in tqdm(target_class):\n",
    "        class_j = os.path.join(target_path, j)\n",
    "        \n",
    "        # 遍历类别下的每张图片\n",
    "        distortion_strength = 0\n",
    "        for image_name in os.listdir(class_j):\n",
    "            image_path = os.path.join(class_j, image_name)\n",
    "            distortion_strength += image_perspective_distortion(image_path)\n",
    "            \n",
    "        \n",
    "        mean_distortion_strength = distortion_strength / len(os.listdir(class_j))    \n",
    "        target_valuelist.append(mean_distortion_strength)        \n",
    "            \n",
    "    \n",
    "    # 创建 权重矩阵\n",
    "    weight_matrix = np.ones((len(source_valuelist),len(target_valuelist)))  \n",
    "    weight_matrix = weight_matrix/np.sum(weight_matrix)\n",
    "        \n",
    "    # 计算\n",
    "    tmp = 0\n",
    "    for i in range(len(source_valuelist)):\n",
    "        for j in range(len(target_valuelist)):\n",
    "            \n",
    "            tmp += heuristic(source_valuelist,target_valuelist)\n",
    "\n",
    "    return math.e ** (-1*alpha*tmp)    "
   ]
  },
  {
   "cell_type": "code",
   "execution_count": 69,
   "metadata": {},
   "outputs": [],
   "source": [
    "def fun1(list1,list2):\n",
    "    return 1"
   ]
  },
  {
   "cell_type": "markdown",
   "metadata": {},
   "source": [
    "## Compute"
   ]
  },
  {
   "cell_type": "code",
   "execution_count": 70,
   "metadata": {},
   "outputs": [],
   "source": [
    "# CUB\n",
    "CUB_path = 'data/CUB_200_2011/images/'\n",
    "\n",
    "# Stanford Cars\n",
    "Cars_path = 'data/stanford_cars/images/'\n",
    "\n",
    "# EuroSAT\n",
    "EuroSAT_path = 'data/EuroSAT_RGB/'\n",
    "\n",
    "# Plant disease\n",
    "Plant_path = 'data/Plant_disease/images'\n",
    "\n",
    "# mini-imagenet\n",
    "mini_path = 'data/mini-imagenet/images/'"
   ]
  },
  {
   "cell_type": "code",
   "execution_count": 72,
   "metadata": {},
   "outputs": [
    {
     "name": "stderr",
     "output_type": "stream",
     "text": [
      " 12%|█▏        | 24/200 [01:18<09:38,  3.29s/it]\n"
     ]
    },
    {
     "ename": "KeyboardInterrupt",
     "evalue": "",
     "output_type": "error",
     "traceback": [
      "\u001b[0;31m---------------------------------------------------------------------------\u001b[0m",
      "\u001b[0;31mKeyboardInterrupt\u001b[0m                         Traceback (most recent call last)",
      "Cell \u001b[0;32mIn[72], line 1\u001b[0m\n\u001b[0;32m----> 1\u001b[0m \u001b[43mdataset_perspective_distortion\u001b[49m\u001b[43m(\u001b[49m\u001b[43mmini_path\u001b[49m\u001b[43m,\u001b[49m\u001b[43mCUB_path\u001b[49m\u001b[43m,\u001b[49m\u001b[43malpha\u001b[49m\u001b[38;5;241;43m=\u001b[39;49m\u001b[38;5;241;43m0.01\u001b[39;49m\u001b[43m,\u001b[49m\u001b[43mheuristic\u001b[49m\u001b[38;5;241;43m=\u001b[39;49m\u001b[43mfun1\u001b[49m\u001b[43m)\u001b[49m\n",
      "Cell \u001b[0;32mIn[68], line 32\u001b[0m, in \u001b[0;36mdataset_perspective_distortion\u001b[0;34m(source_path, target_path, alpha, heuristic)\u001b[0m\n\u001b[1;32m     30\u001b[0m \u001b[38;5;28;01mfor\u001b[39;00m image_name \u001b[38;5;129;01min\u001b[39;00m os\u001b[38;5;241m.\u001b[39mlistdir(class_j):\n\u001b[1;32m     31\u001b[0m     image_path \u001b[38;5;241m=\u001b[39m os\u001b[38;5;241m.\u001b[39mpath\u001b[38;5;241m.\u001b[39mjoin(class_j, image_name)\n\u001b[0;32m---> 32\u001b[0m     distortion_strength \u001b[38;5;241m+\u001b[39m\u001b[38;5;241m=\u001b[39m \u001b[43mimage_perspective_distortion\u001b[49m\u001b[43m(\u001b[49m\u001b[43mimage_path\u001b[49m\u001b[43m)\u001b[49m\n\u001b[1;32m     35\u001b[0m mean_distortion_strength \u001b[38;5;241m=\u001b[39m distortion_strength \u001b[38;5;241m/\u001b[39m \u001b[38;5;28mlen\u001b[39m(os\u001b[38;5;241m.\u001b[39mlistdir(class_j))    \n\u001b[1;32m     36\u001b[0m target_valuelist\u001b[38;5;241m.\u001b[39mappend(mean_distortion_strength)        \n",
      "Cell \u001b[0;32mIn[67], line 28\u001b[0m, in \u001b[0;36mimage_perspective_distortion\u001b[0;34m(image_path)\u001b[0m\n\u001b[1;32m     26\u001b[0m x1 \u001b[38;5;241m=\u001b[39m \u001b[38;5;28mint\u001b[39m(x0 \u001b[38;5;241m+\u001b[39m \u001b[38;5;241m1000\u001b[39m \u001b[38;5;241m*\u001b[39m (\u001b[38;5;241m-\u001b[39mb))\n\u001b[1;32m     27\u001b[0m y1 \u001b[38;5;241m=\u001b[39m \u001b[38;5;28mint\u001b[39m(y0 \u001b[38;5;241m+\u001b[39m \u001b[38;5;241m1000\u001b[39m \u001b[38;5;241m*\u001b[39m (a))\n\u001b[0;32m---> 28\u001b[0m x2 \u001b[38;5;241m=\u001b[39m \u001b[38;5;28;43mint\u001b[39;49m\u001b[43m(\u001b[49m\u001b[43mx0\u001b[49m\u001b[43m \u001b[49m\u001b[38;5;241;43m-\u001b[39;49m\u001b[43m \u001b[49m\u001b[38;5;241;43m1000\u001b[39;49m\u001b[43m \u001b[49m\u001b[38;5;241;43m*\u001b[39;49m\u001b[43m \u001b[49m\u001b[43m(\u001b[49m\u001b[38;5;241;43m-\u001b[39;49m\u001b[43mb\u001b[49m\u001b[43m)\u001b[49m\u001b[43m)\u001b[49m\n\u001b[1;32m     29\u001b[0m y2 \u001b[38;5;241m=\u001b[39m \u001b[38;5;28mint\u001b[39m(y0 \u001b[38;5;241m-\u001b[39m \u001b[38;5;241m1000\u001b[39m \u001b[38;5;241m*\u001b[39m (a))\n\u001b[1;32m     31\u001b[0m \u001b[38;5;66;03m# 避免竖直线导致的除零错误\u001b[39;00m\n",
      "\u001b[0;31mKeyboardInterrupt\u001b[0m: "
     ]
    }
   ],
   "source": [
    "dataset_perspective_distortion(mini_path,CUB_path,alpha=0.01,heuristic=fun1)"
   ]
  }
 ],
 "metadata": {
  "kernelspec": {
   "display_name": "Python 3",
   "language": "python",
   "name": "python3"
  },
  "language_info": {
   "codemirror_mode": {
    "name": "ipython",
    "version": 3
   },
   "file_extension": ".py",
   "mimetype": "text/x-python",
   "name": "python",
   "nbconvert_exporter": "python",
   "pygments_lexer": "ipython3",
   "version": "3.10.12"
  }
 },
 "nbformat": 4,
 "nbformat_minor": 2
}
